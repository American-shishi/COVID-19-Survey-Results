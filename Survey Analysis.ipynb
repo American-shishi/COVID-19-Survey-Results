{
 "cells": [
  {
   "cell_type": "code",
   "execution_count": 13,
   "metadata": {},
   "outputs": [
    {
     "name": "stdout",
     "output_type": "stream",
     "text": [
      "<class 'pandas.core.frame.DataFrame'>\n",
      "RangeIndex: 113 entries, 0 to 112\n",
      "Data columns (total 29 columns):\n",
      "1     113 non-null datetime64[ns, pytz.FixedOffset(-540)]\n",
      "2     112 non-null object\n",
      "3     104 non-null float64\n",
      "4     111 non-null object\n",
      "5     112 non-null float64\n",
      "6     112 non-null float64\n",
      "7     112 non-null float64\n",
      "8     110 non-null object\n",
      "9     111 non-null object\n",
      "10    110 non-null object\n",
      "11    111 non-null object\n",
      "12    112 non-null object\n",
      "13    112 non-null object\n",
      "14    111 non-null object\n",
      "15    108 non-null object\n",
      "16    111 non-null object\n",
      "17    112 non-null object\n",
      "18    112 non-null object\n",
      "19    112 non-null object\n",
      "20    112 non-null object\n",
      "21    111 non-null object\n",
      "22    110 non-null object\n",
      "23    109 non-null object\n",
      "24    112 non-null object\n",
      "25    111 non-null float64\n",
      "26    108 non-null object\n",
      "27    107 non-null object\n",
      "28    109 non-null object\n",
      "29    20 non-null object\n",
      "dtypes: datetime64[ns, pytz.FixedOffset(-540)](1), float64(5), object(23)\n",
      "memory usage: 25.7+ KB\n",
      "None\n"
     ]
    }
   ],
   "source": [
    "import pandas as pd\n",
    "import numpy as np\n",
    "import seaborn as sns\n",
    "\n",
    "colnum = np.arange(1,30)\n",
    "df = pd.read_csv('COVID-19 Survey.csv', parse_dates=[0], header=0, names=colnum)\n",
    "\n",
    "print(df.info())"
   ]
  },
  {
   "cell_type": "code",
   "execution_count": 3,
   "metadata": {},
   "outputs": [],
   "source": []
  }
 ],
 "metadata": {
  "kernelspec": {
   "display_name": "Python 3",
   "language": "python",
   "name": "python3"
  },
  "language_info": {
   "codemirror_mode": {
    "name": "ipython",
    "version": 3
   },
   "file_extension": ".py",
   "mimetype": "text/x-python",
   "name": "python",
   "nbconvert_exporter": "python",
   "pygments_lexer": "ipython3",
   "version": "3.7.3"
  }
 },
 "nbformat": 4,
 "nbformat_minor": 2
}
